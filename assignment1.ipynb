{
 "cells": [
  {
   "cell_type": "raw",
   "id": "9561d427-0e6f-408b-9214-e51eb7bb5803",
   "metadata": {},
   "source": [
    "# Question 1:\n",
    "Task: user entered password is strong(True) or not(False)\n",
    "conditions for password:\n",
    "1. length of the password>=8\n",
    "2. at least one letter in uppercase\n",
    "3. at least one letter in lower case\n",
    "4. at least one letter a number\n",
    "5. at least one special character\n",
    "6. write function with arguement checkPass(password)"
   ]
  },
  {
   "cell_type": "code",
   "execution_count": 28,
   "id": "67ef88ee-b81c-4bf0-bcea-90ae655e087b",
   "metadata": {},
   "outputs": [
    {
     "name": "stdin",
     "output_type": "stream",
     "text": [
      "Enter the password:  1234\n"
     ]
    },
    {
     "name": "stdout",
     "output_type": "stream",
     "text": [
      "False\n"
     ]
    }
   ],
   "source": [
    "# Question 1\n",
    "\n",
    "def inputName():\n",
    "    user_name = input(\"Enter the password: \")\n",
    "    return user_name\n",
    "\n",
    "def checkPass(password):\n",
    "\n",
    "  special_chars =['!', '@', '#', '$', '%', '^', '&','*','(', ')','-','_','+','=','[',']','{','}','\\'']\n",
    "  validation = True\n",
    "\n",
    "  if len(password) < 8:\n",
    "    validation = False\n",
    "    \n",
    "  elif not any(char.isdigit() for char in password):\n",
    "    validation = False\n",
    "\n",
    "  elif not any(char.isupper() for char in password):\n",
    "    validation = False\n",
    "\n",
    "  elif not any(char.islower() for char in password):\n",
    "    validation = False\n",
    "        \n",
    "  elif not any(char in special_chars for char in password):\n",
    "    validation = False\n",
    "\n",
    "  return validation\n",
    "\n",
    "user_name = checkPass(inputName())\n",
    "print(user_name)"
   ]
  },
  {
   "cell_type": "raw",
   "id": "e573d14b-9fc3-4236-a405-b99a86312fa0",
   "metadata": {},
   "source": [
    "# Question 2\n",
    "1. working days in last two weeks. each week has five working days.Total working days = 10\n",
    "2. attendance P for present and A for absent. \n",
    "3. task is to find whether ankit will get suspended or not by using attendance(record) function. \n",
    "5. The function arguement is seperated by single liner space as a string [A P A P P P....]\n",
    "6. if present is >70%  -----> not suspended/ if present is <70%  -----> suspended\n",
    "7. returns must be in tuple form as (suspended, 0.6)"
   ]
  },
  {
   "cell_type": "code",
   "execution_count": 1,
   "id": "cf128df3-1e34-4d5b-82a3-47649551c2a7",
   "metadata": {},
   "outputs": [
    {
     "name": "stdout",
     "output_type": "stream",
     "text": [
      "Hi! Welcome to the attendance portal. \n",
      "(Note: Enter 'P' for present and Enter 'A' for absent) \n",
      "\n"
     ]
    },
    {
     "name": "stdin",
     "output_type": "stream",
     "text": [
      "Ankit attendance for day 1: A\n",
      "Ankit attendance for day 2: P\n",
      "Ankit attendance for day 3: A\n",
      "Ankit attendance for day 4: P\n",
      "Ankit attendance for day 5: P\n",
      "Ankit attendance for day 6: P\n",
      "Ankit attendance for day 7: A\n",
      "Ankit attendance for day 8: P\n",
      "Ankit attendance for day 9: P\n",
      "Ankit attendance for day 10: P\n"
     ]
    },
    {
     "name": "stdout",
     "output_type": "stream",
     "text": [
      "\n",
      "Ten days attendance report is: A P A P P P A P P P\n",
      "Attendance status of Ankit is: ('not suspended', 0.7)\n"
     ]
    }
   ],
   "source": [
    "# Question 2\n",
    "\n",
    "print(\"Hi! Welcome to the attendance portal. \\n(Note: Enter 'P' for present and Enter 'A' for absent) \\n\") \n",
    "\n",
    "days = [\"day 1:\", \"day 2:\", \"day 3:\",\"day 4:\", \"day 5:\", \"day 6:\",\"day 7:\", \"day 8:\", \"day 9:\",\"day 10:\" ]\n",
    "daywise_attendance =[input( \"Ankit attendance for \"+ day) for day in days]\n",
    "\n",
    "attendance_record = ' '.join(map(str,daywise_attendance))\n",
    "print(f\"\\nTen days attendance report is: {attendance_record}\")\n",
    "\n",
    "def suspensionCriteria(attendance_record):\n",
    "    present_days = attendance_record.count('P')/10\n",
    "    if present_days>= 0.7:\n",
    "        catagory = 'not suspended'\n",
    "    else:\n",
    "        catagory = 'suspended'\n",
    "    return [catagory, present_days]\n",
    "\n",
    "ankit_attendance = suspensionCriteria(attendance_record)\n",
    "ankit_attendance = tuple(ankit_attendance)\n",
    "print(f\"Attendance status of Ankit is: {ankit_attendance}\")"
   ]
  },
  {
   "cell_type": "raw",
   "id": "a927ebe9-9212-424d-b05f-dce4aeaa3e8e",
   "metadata": {},
   "source": [
    "# Question 3:\n",
    "1. To find the second highest in dictionary. \n",
    "2. dictionary with four names: marks\n",
    "3. Write function ankitMax(marks_dict)\n",
    "4. if two persons scoring the second marks same (return=none)"
   ]
  },
  {
   "cell_type": "code",
   "execution_count": 1,
   "id": "893de000-b154-4575-a288-cda55a74a314",
   "metadata": {},
   "outputs": [
    {
     "name": "stdin",
     "output_type": "stream",
     "text": [
      "Enter the name of student 1: dhanya\n",
      "Enter the marks of student 1: 98\n",
      "Enter the name of student 2: laxman\n",
      "Enter the marks of student 2: 87\n",
      "Enter the name of student 3: dheepan\n",
      "Enter the marks of student 3: 76\n",
      "Enter the name of student 4: rudra\n",
      "Enter the marks of student 4: 93\n"
     ]
    },
    {
     "name": "stdout",
     "output_type": "stream",
     "text": [
      "{'dhanya': 98, 'laxman': 87, 'dheepan': 76, 'rudra': 93}\n",
      "93\n"
     ]
    }
   ],
   "source": [
    "# Question 3:\n",
    "# excluding the criteria of two persons scoring the second marks same (return=none)\n",
    "marks_dict = {}\n",
    "\n",
    "for i in [\"student 1\", \"student 2\",\"student 3\", \"student 4\"]:\n",
    "    name = input(\"Enter the name of \"+i+ \":\")\n",
    "    mark = int(input(\"Enter the marks of \"+i+  \":\"))\n",
    "    marks_dict[name] =mark\n",
    "print(marks_dict)\n",
    "def ankitMax(marks_dict):\n",
    "    marks = marks_dict.values()\n",
    "    sorted_marks = sorted(marks)\n",
    "    second_max = sorted_marks[-2]\n",
    "    return second_max\n",
    "\n",
    "ankit_max_marks = ankitMax(marks_dict)\n",
    "print(ankit_max_marks)"
   ]
  },
  {
   "cell_type": "raw",
   "id": "aa42652c-be34-49df-8daf-cd919f7acbdc",
   "metadata": {},
   "source": [
    "# Question no.4\n",
    "1. Taking three digits from user input\n",
    "2. check whether the addition of three digit number is divisible by three or not\n",
    "3. use multiplesThree(number) function program. "
   ]
  },
  {
   "cell_type": "code",
   "execution_count": 3,
   "id": "f8afc484-4556-45ec-a5e2-e08c6d77ac07",
   "metadata": {},
   "outputs": [
    {
     "name": "stdin",
     "output_type": "stream",
     "text": [
      "Type your three digit number please:  125\n"
     ]
    },
    {
     "name": "stdout",
     "output_type": "stream",
     "text": [
      "not divisible\n"
     ]
    }
   ],
   "source": [
    "# Question no.4\n",
    "val = input(\"Type your three digit number please: \")\n",
    "\n",
    "first_digit = int(val[0])\n",
    "second_digit = int(val[1])\n",
    "third_digit = int(val[2])\n",
    "\n",
    "number = first_digit + second_digit + third_digit\n",
    "\n",
    "def multiplesThree(number):\n",
    "    if number%3 == 0:\n",
    "        catagory = \"divisible\"\n",
    "    else:\n",
    "        catagory = \"not divisible\"\n",
    "    return catagory\n",
    "divisible_by_three = multiplesThree(number)\n",
    "print(divisible_by_three)"
   ]
  },
  {
   "cell_type": "raw",
   "id": "5eb28f29-0bd4-4374-9478-953e3dbd9b02",
   "metadata": {},
   "source": [
    "# Question 5:\n"
   ]
  },
  {
   "cell_type": "code",
   "execution_count": 49,
   "id": "eac9476a-84a0-4f8b-af3b-d3fc25737e3e",
   "metadata": {},
   "outputs": [
    {
     "name": "stdout",
     "output_type": "stream",
     "text": [
      "mpie\n",
      "lop\n"
     ]
    }
   ],
   "source": [
    "# Question 5: copied from javapoints website\n",
    "\n",
    "def remove_adjacent_duplicates(s, ch):  \n",
    "    if len(s) <= 1:  \n",
    "        return s  \n",
    "  \n",
    "    i = 0  \n",
    "    while i < len(s):  \n",
    "        if i + 1 < len(s) and s[i] == s[i + 1]:  \n",
    "            j = i  \n",
    "            while j + 1 < len(s) and s[j] == s[j + 1]:  \n",
    "                j += 1  \n",
    "  \n",
    "            last_char = s[i - 1] if i > 0 else ch  \n",
    "            rem_str = remove_adjacent_duplicates(s[j + 1:], last_char)  \n",
    "  \n",
    "            s = s[:i]  \n",
    "            k, l = len(s), 0  \n",
    "  \n",
    "            while len(rem_str) > 0 and len(s) > 0 and rem_str[0] == s[len(s) - 1]:  \n",
    "                while len(rem_str) > 0 and rem_str[0] != ch and rem_str[0] == s[len(s) - 1]:  \n",
    "                    rem_str = rem_str[1:]  \n",
    "  \n",
    "                s = s[:-1]  \n",
    "  \n",
    "            s += rem_str  \n",
    "            i = j  \n",
    "  \n",
    "        else:  \n",
    "            i += 1  \n",
    "  \n",
    "    return s  \n",
    "str1 = \"mississipie\"  \n",
    "print(remove_adjacent_duplicates(str1, ' '))  \n",
    "str2 = \"ocvvcolop\"  \n",
    "print(remove_adjacent_duplicates(str2, ' '))"
   ]
  },
  {
   "cell_type": "code",
   "execution_count": null,
   "id": "1564bcf7-a6a6-47a1-8725-e1e696a775dd",
   "metadata": {},
   "outputs": [],
   "source": []
  }
 ],
 "metadata": {
  "kernelspec": {
   "display_name": "Python 3 (ipykernel)",
   "language": "python",
   "name": "python3"
  },
  "language_info": {
   "codemirror_mode": {
    "name": "ipython",
    "version": 3
   },
   "file_extension": ".py",
   "mimetype": "text/x-python",
   "name": "python",
   "nbconvert_exporter": "python",
   "pygments_lexer": "ipython3",
   "version": "3.12.0"
  }
 },
 "nbformat": 4,
 "nbformat_minor": 5
}
